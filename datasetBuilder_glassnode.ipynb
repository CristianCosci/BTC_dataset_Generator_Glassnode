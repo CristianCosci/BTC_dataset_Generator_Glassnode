{
  "nbformat": 4,
  "nbformat_minor": 0,
  "metadata": {
    "colab": {
      "name": "datasetBuilder_glassnode.ipynb",
      "provenance": [],
      "authorship_tag": "ABX9TyM3vTYaKLaE2oLNoDviOh/j",
      "include_colab_link": true
    },
    "kernelspec": {
      "name": "python3",
      "display_name": "Python 3"
    },
    "language_info": {
      "name": "python"
    }
  },
  "cells": [
    {
      "cell_type": "markdown",
      "metadata": {
        "id": "view-in-github",
        "colab_type": "text"
      },
      "source": [
        "<a href=\"https://colab.research.google.com/github/CristianCosci/BTC_dataset_Generator_glassnode/blob/main/datasetBuilder_glassnode.ipynb\" target=\"_parent\"><img src=\"https://colab.research.google.com/assets/colab-badge.svg\" alt=\"Open In Colab\"/></a>"
      ]
    },
    {
      "cell_type": "code",
      "execution_count": 1,
      "metadata": {
        "colab": {
          "base_uri": "https://localhost:8080/"
        },
        "id": "3fk7XyvKGENu",
        "outputId": "2d545e65-5821-4ca9-c641-5db43e6d3aa8"
      },
      "outputs": [
        {
          "output_type": "stream",
          "name": "stdout",
          "text": [
            "Mounted at /content/drive\n"
          ]
        }
      ],
      "source": [
        "from google.colab import drive\n",
        "import pandas as pd\n",
        "import matplotlib.pyplot as plt\n",
        "import numpy as np\n",
        "import json\n",
        "import requests\n",
        "\n",
        "connected = False\n",
        "\n",
        "if(not connected):\n",
        "  drive.mount('/content/drive')\n",
        "  path = '/content/drive/MyDrive/progettoBTC/'\n",
        "  connected = True\n",
        "  f = open(\"{}secret.txt\".format(path))\n",
        "  API_KEY = f.read().replace(\"\\n\", \"\")\n",
        "  f.close()"
      ]
    },
    {
      "cell_type": "code",
      "source": [
        "def download_dataset(interval, since, dataset_type):\n",
        "  dati = []\n",
        "  with open(path+dataset_type,'r') as file:\n",
        "    # reading each line\n",
        "    for line in file:\n",
        "        conta = 0\n",
        "        # print(line)\n",
        "        link = line.split()[0]\n",
        "        riga = {'link': link}\n",
        "        label = []\n",
        "        for word in line.split()[1:]:\n",
        "            label.append(word)\n",
        "            conta += 1\n",
        "        for i in range(0, conta, 2):\n",
        "          riga[label[i]] = label[i+1]\n",
        "        dati.append(riga)\n",
        "        riga = {}\n",
        "  \n",
        "  df = pd.DataFrame()\n",
        "  for i in dati:\n",
        "    link = i.pop('link')\n",
        "    res = requests.get(link,\n",
        "    params={'a': 'BTC','s': since,'i': interval, 'api_key': API_KEY})\n",
        "    foo_df = pd.json_normalize(json.loads(res.text))\n",
        "    foo_df[\"datetime\"] = pd.to_datetime(foo_df[\"t\"], unit=\"s\") #timestamp conversion to datetime\n",
        "    foo_df = foo_df.drop(\"t\", axis=1).set_index(\"datetime\").sort_index()\n",
        "    for j in i.keys():\n",
        "      # print(j)\n",
        "      df[j] = foo_df[i[j]]\n",
        "  \n",
        "  return df"
      ],
      "metadata": {
        "id": "MERopuTpKbA9"
      },
      "execution_count": 4,
      "outputs": []
    },
    {
      "cell_type": "code",
      "source": [
        "df_hourly = download_dataset(interval = '1h', since = '1356998400', dataset_type = 'hourly_data.txt')\n",
        "df_daily = download_dataset(interval = '24h', since = '1356998400', dataset_type = 'daily_data.txt')"
      ],
      "metadata": {
        "id": "pXTHwnMsK1G1"
      },
      "execution_count": 5,
      "outputs": []
    },
    {
      "cell_type": "code",
      "source": [
        "df_hourly.to_csv(path+\"BTC_hourly_dataset.csv\")\n",
        "df_daily.to_csv(path+\"BTC_daily_dataset.csv\")"
      ],
      "metadata": {
        "id": "dY_r33dQLYrV"
      },
      "execution_count": 6,
      "outputs": []
    },
    {
      "cell_type": "code",
      "source": [
        "# FOR DEBUG\n",
        "res = requests.get('https://api.glassnode.com/v1/metrics/indicators/stock_to_flow_ratio' ,\n",
        "    params={'a': 'BTC','s': '1356998400','i': '24h', 'api_key': API_KEY})\n",
        "foo_df = pd.json_normalize(json.loads(res.text))\n",
        "print(foo_df)\n",
        "foo_df[\"datetime\"] = pd.to_datetime(foo_df[\"t\"], unit=\"s\") #timestamp conversion to datetime\n",
        "foo_df = foo_df.drop(\"t\", axis=1).set_index(\"datetime\").sort_index()"
      ],
      "metadata": {
        "id": "05OQtfphPkNk"
      },
      "execution_count": null,
      "outputs": []
    }
  ]
}